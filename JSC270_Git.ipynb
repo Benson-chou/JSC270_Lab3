{
  "cells": [
    {
      "cell_type": "markdown",
      "metadata": {
        "id": "view-in-github",
        "colab_type": "text"
      },
      "source": [
        "<a href=\"https://colab.research.google.com/github/jlgrons/JSC270_Lab3/blob/main/JSC270_Git.ipynb\" target=\"_parent\"><img src=\"https://colab.research.google.com/assets/colab-badge.svg\" alt=\"Open In Colab\"/></a>"
      ]
    },
    {
      "cell_type": "markdown",
      "metadata": {
        "id": "nlxfs2k-LLZ1"
      },
      "source": [
        "# Lab 3: Version Control with Git"
      ]
    },
    {
      "cell_type": "markdown",
      "metadata": {
        "id": "HCGrp56CLLZ2"
      },
      "source": [
        "**This tutorial is based on:**\n",
        "\n",
        "Harvard's CSC109 introduction to [Git](https://github.com/cs109/2015lab1), Charles Duan’s excellent tutorial on [Git](https://www.sbf5.com/~cduan/technical/git/git-1.shtml), and the Ocean Health Index [Data Science Training](https://ohi-science.org/data-science-training/github.html). \n"
      ]
    },
    {
      "cell_type": "markdown",
      "source": [
        "----"
      ],
      "metadata": {
        "id": "UEW0vW-YmOqg"
      }
    },
    {
      "cell_type": "markdown",
      "metadata": {
        "id": "wGMoAZL5LLZ3"
      },
      "source": [
        "# Table of Contents\n",
        "* [Lab 3: Version Control with Git](#Lab-2:-Version-Control-with-Git)\n",
        "\t* [What is Git? What about GitHub?](#What-is-Git?-What-about-GitHub?)\n",
        "\t* [Why should you use version control?](#Why-should-you-use-version-control?)\n",
        "\t* [Git Basics](#Git-Basics)\n",
        "\t* [Common Tasks in the version control of files.](#Common-Tasks-in-the-version-control-of-files.)\n",
        "\t\t* [Forking a repository](#Forking-a-repository)\n",
        "\t\t* [Cloning a repository](#Cloning-a-repository)\n",
        "\t\t* [Poking around](#Poking-around)\n",
        "\t\t* [Making changes](#Making-changes)\n",
        "\t\t* [Remotes and `fetch`ing from them](#Remotes-and-fetching-from-them)\n",
        "\t\t* [Branching.](#Branching.)\n",
        "\t\t* [Recovering from a mistake](#Recovering-from-a-mistake)\n",
        "\t\t* [Changing only one file](#Changing-only-one-file)\n"
      ]
    },
    {
      "cell_type": "markdown",
      "metadata": {
        "id": "9qagt-P2LLZ3"
      },
      "source": [
        "----"
      ]
    },
    {
      "cell_type": "markdown",
      "source": [
        "## What is Git? What about Github?"
      ],
      "metadata": {
        "id": "FJ8055jEQFHw"
      }
    },
    {
      "cell_type": "markdown",
      "source": [
        "* **Git** is one of the most popular version control systems\n",
        "  * Designed to manage projects as they evolve over time by tracking the source code history\n",
        "  * All of the information is stored within a **repository**\n",
        "\n",
        "* **GitHub** is a cloud based hosting service that allows you to manage Git repositories \n",
        "  * Allows for you to seamlessly work on your local computer and commit changes to a repository owned by yourself or a collaborator that is stored remotely\n",
        "  * Very useful when developing software or working on a data science project with a team!\n",
        "  * You can think about Github as the \"dropbox\" for coding projects\n",
        "\n"
      ],
      "metadata": {
        "id": "MIF4_Y06RSKU"
      }
    },
    {
      "cell_type": "markdown",
      "source": [
        "----"
      ],
      "metadata": {
        "id": "Tcu5y9S3mRDL"
      }
    },
    {
      "cell_type": "markdown",
      "metadata": {
        "id": "cLRR46brLLZ3"
      },
      "source": [
        "## Why should you use version control?"
      ]
    },
    {
      "cell_type": "markdown",
      "metadata": {
        "id": "OHAB0FXGLLZ4"
      },
      "source": [
        "Like most things in data science, you will get different answers from differnt people.  It takes a bit of getting used to, but version control is integral to the development process. Here are some highlights:\n",
        "\n",
        "- **You can undo anything:** Git provides a *complete history* of every change that has ever been made to your project, timestamped, commented, and attributed. If something breaks, you always have the choice of going back to a previous state.  This is INCREDIBLY useful when you are working on a complex data science project.  This means no more saving files as `my_homework_final.ipynb`, `my_homework_final_final.ipynb`, `my_homework_final_final_REALLY_final.ipynb`, and so on. \n",
        "- **You won't *need* to keep undo-ing things:** One of the advantages of using git properly is that by keeping new changes separate from a stable base, you tend to avoid the massive rollbacks associated with constantly tinkering with a single code.\n",
        "- **You can identify exactly when and where changes were made:** Git allows you to pinpoint when a particular piece of code was changed, so finding what other pieces of code a bug might affect or figuring out why a certain expression was added is easy.\n",
        "- **Git allows teams to work together:** On a team-based project, different people can work on the same files at the same time."
      ]
    },
    {
      "cell_type": "markdown",
      "metadata": {
        "id": "oEHJ5trTLLZ4"
      },
      "source": [
        "----"
      ]
    },
    {
      "cell_type": "markdown",
      "metadata": {
        "id": "k0iAlSEzLLZ4"
      },
      "source": [
        "## Git and GitHub Basics"
      ]
    },
    {
      "cell_type": "markdown",
      "source": [
        "Now that you're convinced about the importance of version control (hopefully!), we will get started with the basics of Git and Github.  \n",
        "\n",
        "For the second part of lab, we will move on to a colab notebook covering the basics of regression.  As part of this lab, you will: \n",
        "\n",
        "1. Create a Github repository \n",
        "2. Save the regression colab file to the repository\n",
        "\n",
        "You will need to be able to do this the notebook that you turn in for Homework 2.  \n",
        "\n",
        "It is important to note that here are many ways to interface GitHub, including the command line and [Git clients](https://happygitwithr.com/git-client.html).  Next week, the lab will focus on the command line.  You'll learn how to add a file from your local computer to a GitHub repository, which is also part of Homework 2, so stay tuned!  "
      ],
      "metadata": {
        "id": "jx9pShxAj5Ag"
      }
    },
    {
      "cell_type": "markdown",
      "source": [
        "### What are the contents of a Git repository?"
      ],
      "metadata": {
        "id": "-M1py4Jbf4n5"
      }
    },
    {
      "cell_type": "markdown",
      "source": [
        "* **Commit objects** that each contain:\n",
        "  * A set of files reflecting the project at the given point in time\n",
        "  * References to the parent commit objects that were produced \n",
        "   * Parent commit objects are those commits that were edited to produce the subsequent state of the project (so, the initial commit will not have references!) \n",
        "  * A 40-character string identifier called a SHA1 name \n",
        "    * An identical commit will have the same name\n",
        "\n",
        "* **References** to commit objects called **heads**\n",
        "    * By default this will be master, though it can be changed which is useful for debugging \n"
      ],
      "metadata": {
        "id": "kM1h7AiZSmpa"
      }
    },
    {
      "cell_type": "markdown",
      "source": [
        "![Git repo](https://raw.github.com/jlgrons/JSC270_Lab3/main/git_visual.png)\n",
        "\n",
        "*Visualizing a Git repository*\n"
      ],
      "metadata": {
        "id": "kxA8zzauhOsr"
      }
    },
    {
      "cell_type": "markdown",
      "source": [
        "### Basic Git commands and workflow"
      ],
      "metadata": {
        "id": "k9DkLEzkpnHK"
      }
    },
    {
      "cell_type": "markdown",
      "metadata": {
        "id": "svprrHdBLLZ4"
      },
      "source": [
        "There are several key concepts and commands in git.  When you are working on a your local machine you typically get started by:\n",
        "\n",
        "  * `git clone`: Cloning a remote repository to work on locally.  This is a way to work with an ongoing project or edit someone else's project that is available remotely (aka on GitHub).\n",
        "\n",
        "From there, the typical workflow involves:\n",
        "\n",
        "  * `git add`: Adding files to your repo\n",
        "  * `git commit`: Commiting changes you have made\n",
        "  * `git push`: Pushing changes to a remote repository (aka GitHub)\n",
        "  * `git pull`: Pulling changes from a remote repository, this is useful for a collaborative project or for a project that you work on in several local enviornments (eg. work desktop, personal laptop)\n",
        "\n",
        "An overview of this process is provided in the figure below.  Next week we will work with these commands within Bash, a command line interface, to get practice. \n",
        "\n",
        "\n"
      ]
    },
    {
      "cell_type": "markdown",
      "source": [
        "![Github](https://raw.github.com/jlgrons/JSC270_Lab3/main/github%20visual.png)\n",
        "\n",
        "*Visualizing a Git workflow*"
      ],
      "metadata": {
        "id": "CS1JttrXqQbq"
      }
    },
    {
      "cell_type": "markdown",
      "metadata": {
        "id": "gfF2s5PNLLZ4"
      },
      "source": [
        "----"
      ]
    },
    {
      "cell_type": "markdown",
      "metadata": {
        "id": "xhMLTSceLLZ4"
      },
      "source": [
        "## A bit more detail on the basics"
      ]
    },
    {
      "cell_type": "markdown",
      "source": [
        "The first thing to understand about git is that the contents of your project are stored in several different states and forms at any given time. If you think about what version control is, this might not be surprising: in order to remember every change that's ever been made, you need to store a record of those changes *somewhere*, and to be able to handle multiple people changing the same code, you need to have different copies of the project and a way to combine them.\n",
        "\n",
        "You can think about git operating on four different areas:\n",
        "\n",
        "![Git Commands](https://github.com/cs109/2015lab1/blob/master/git_layout.png?raw=1)\n",
        "\n",
        " - The **working directory** is what you're currently looking at on your local machine. When you use an editor to modify a file, the changes are made to the working directory.\n",
        " - The **staging area** is a place to collect a set of changes made to your project. If you have changed three files to fix a bug, you will add all three to the staging area so that you can remember the changes as one historical entity. It is also called the **index**. You move files from the working directory to the index using the command `git add`.\n",
        " - The **local repository** is the place where git stores everything you've ever done to your project. Even when you delete a file, a copy is stored in the repo (this is necessary for always being able to undo any change). It's important to note that a local repository doesn't look much at all like your project files or directories. Git has its own way of storing all the information, and if you're curious what it looks like, look in the `.git` directory in the working directory of your project. Files are moved from the index to the local repository via the command `git commit`.\n",
        " - When working in a team, every member will be working on their own local repository. An **upstream repository** allows everyone to agree on a single version of history. If two people have made changes on their local repositories, they will combine those changes in the upstream repository (in our case that is GitHub).  This upstream repository is also called a **remote** in git parlance. The standard github remote is called the **origin**: it is the repository which is given a web page on github. One usually moves code from local to remote repositories using `git push`, and in the other direction using `git pull` .\n",
        "\n",
        "You can think of most git operations as moving code or metadata from one of these areas to another."
      ],
      "metadata": {
        "id": "w6QRdqIkvnHK"
      }
    },
    {
      "cell_type": "markdown",
      "source": [
        "## Cloning vs. Forking"
      ],
      "metadata": {
        "id": "crU4GCgjyOWE"
      }
    },
    {
      "cell_type": "markdown",
      "source": [
        "## Branching "
      ],
      "metadata": {
        "id": "8nTE_Cl0yu1Y"
      }
    }
  ],
  "metadata": {
    "kernelspec": {
      "display_name": "Python 3",
      "name": "python3"
    },
    "language_info": {
      "name": "python"
    },
    "colab": {
      "name": "JSC270_Git.ipynb",
      "provenance": [],
      "include_colab_link": true
    }
  },
  "nbformat": 4,
  "nbformat_minor": 0
}